{
  "cells": [
    {
      "cell_type": "markdown",
      "metadata": {
        "id": "view-in-github",
        "colab_type": "text"
      },
      "source": [
        "<a href=\"https://colab.research.google.com/github/BureddySaiPoojitha/Module1_Lab2_AIML-/blob/main/MODULE_1_LAB_2_(AIML).ipynb\" target=\"_parent\"><img src=\"https://colab.research.google.com/assets/colab-badge.svg\" alt=\"Open In Colab\"/></a>"
      ]
    },
    {
      "cell_type": "markdown",
      "metadata": {
        "id": "lOPwthcuReaw"
      },
      "source": [
        "# **Module 1, Lab 2**\n",
        "# **Machine Learning terms and metrics & Data Augmentation**"
      ]
    },
    {
      "cell_type": "markdown",
      "source": [
        "# Section 1 - Machine Learning terms and matrics"
      ],
      "metadata": {
        "id": "rVsM9KKy1tpI"
      }
    },
    {
      "cell_type": "code",
      "execution_count": null,
      "metadata": {
        "id": "dS36Y0_IRnz_"
      },
      "outputs": [],
      "source": [
        "import numpy as np\n",
        "from sklearn import datasets\n",
        "import matplotlib.pyplot as plt\n",
        "rng=np.random.default_rng(seed=40)"
      ]
    },
    {
      "cell_type": "code",
      "execution_count": null,
      "metadata": {
        "colab": {
          "base_uri": "https://localhost:8080/"
        },
        "id": "aJewGCmdTpfo",
        "outputId": "d6e99830-901b-4cfb-d779-8bba14280f2e"
      },
      "outputs": [
        {
          "output_type": "stream",
          "name": "stdout",
          "text": [
            ".. _california_housing_dataset:\n",
            "\n",
            "California Housing dataset\n",
            "--------------------------\n",
            "\n",
            "**Data Set Characteristics:**\n",
            "\n",
            ":Number of Instances: 20640\n",
            "\n",
            ":Number of Attributes: 8 numeric, predictive attributes and the target\n",
            "\n",
            ":Attribute Information:\n",
            "    - MedInc        median income in block group\n",
            "    - HouseAge      median house age in block group\n",
            "    - AveRooms      average number of rooms per household\n",
            "    - AveBedrms     average number of bedrooms per household\n",
            "    - Population    block group population\n",
            "    - AveOccup      average number of household members\n",
            "    - Latitude      block group latitude\n",
            "    - Longitude     block group longitude\n",
            "\n",
            ":Missing Attribute Values: None\n",
            "\n",
            "This dataset was obtained from the StatLib repository.\n",
            "https://www.dcc.fc.up.pt/~ltorgo/Regression/cal_housing.html\n",
            "\n",
            "The target variable is the median house value for California districts,\n",
            "expressed in hundreds of thousands of dollars ($100,000).\n",
            "\n",
            "This dataset was derived from the 1990 U.S. census, using one row per census\n",
            "block group. A block group is the smallest geographical unit for which the U.S.\n",
            "Census Bureau publishes sample data (a block group typically has a population\n",
            "of 600 to 3,000 people).\n",
            "\n",
            "A household is a group of people residing within a home. Since the average\n",
            "number of rooms and bedrooms in this dataset are provided per household, these\n",
            "columns may take surprisingly large values for block groups with few households\n",
            "and many empty houses, such as vacation resorts.\n",
            "\n",
            "It can be downloaded/loaded using the\n",
            ":func:`sklearn.datasets.fetch_california_housing` function.\n",
            "\n",
            ".. rubric:: References\n",
            "\n",
            "- Pace, R. Kelley and Ronald Barry, Sparse Spatial Autoregressions,\n",
            "  Statistics and Probability Letters, 33 (1997) 291-297\n",
            "\n"
          ]
        }
      ],
      "source": [
        "dataset=datasets.fetch_california_housing()\n",
        "print(dataset.DESCR)"
      ]
    },
    {
      "cell_type": "code",
      "execution_count": null,
      "metadata": {
        "colab": {
          "base_uri": "https://localhost:8080/"
        },
        "id": "AqmqX-elUASV",
        "outputId": "21eec34c-d114-4c50-fc22-b3dbef270742"
      },
      "outputs": [
        {
          "output_type": "stream",
          "name": "stdout",
          "text": [
            "Original target values: [4.526 3.585 3.521 ... 0.923 0.847 0.894]\n",
            "Target values after conversion: [4 3 3 ... 0 0 0]\n",
            "Input variables shape: (20640, 8)\n",
            "Output variables shape: (20640,)\n"
          ]
        }
      ],
      "source": [
        "print(\"Original target values:\",dataset.target)\n",
        "dataset.target=dataset.target.astype(int)\n",
        "print(\"Target values after conversion:\",dataset.target)\n",
        "print(\"Input variables shape:\",dataset.data.shape)\n",
        "print(\"Output variables shape:\",dataset.target.shape)"
      ]
    },
    {
      "cell_type": "code",
      "execution_count": null,
      "metadata": {
        "id": "NH-Q0CdnUxLw"
      },
      "outputs": [],
      "source": [
        "def NN1(traindata,trainlabel,query):\n",
        "    diff=traindata-query\n",
        "    sq=diff*diff\n",
        "    dist=sq.sum(axis=1)\n",
        "    label=trainlabel[dist.argmin()]\n",
        "    return label\n",
        "def NN(traindata,trainlabel,testdata):\n",
        "  predlabel=np.array([NN1(traindata,trainlabel,i) for i in testdata])\n",
        "  return predlabel"
      ]
    },
    {
      "cell_type": "code",
      "execution_count": null,
      "metadata": {
        "id": "xPdS15chVOvF"
      },
      "outputs": [],
      "source": [
        "def RandomClassifier(traindata,trainlabel,testdata):\n",
        "  classes=np.unique(trainlabel)\n",
        "  rints=rng.integers(low=0,high=len(classes),size=len(testdata))\n",
        "  predlabel=classes[rints]\n",
        "  return predlabel"
      ]
    },
    {
      "cell_type": "code",
      "execution_count": null,
      "metadata": {
        "id": "TNs0i9YvXy5x"
      },
      "outputs": [],
      "source": [
        "def Accuracy(gtlabel,predlabel):\n",
        "  assert len(gtlabel)==len(predlabel), \"Length of the ground-truth labels and predicted labels should be the same\"\n",
        "  correct=(\n",
        "    gtlabel==predlabel\n",
        "    ).sum()\n",
        "  return correct/len(gtlabel)\n"
      ]
    },
    {
      "cell_type": "code",
      "execution_count": null,
      "metadata": {
        "colab": {
          "base_uri": "https://localhost:8080/"
        },
        "id": "H45-JY90a-Nh",
        "outputId": "be980530-d4da-407a-c845-1a1682978895"
      },
      "outputs": [
        {
          "output_type": "stream",
          "name": "stdout",
          "text": [
            "Number of test samples: 4171\n",
            "Number of training samples: 16469\n",
            "Percent of test data: 20.208333333333332 %\n"
          ]
        }
      ],
      "source": [
        "import numpy as np\n",
        "def split(traindata,trainlabel, percent):\n",
        "  rnd = np.random.rand(len(trainlabel))\n",
        "  split1 = rnd < percent\n",
        "  split2 = rnd >= percent\n",
        "  split1data = traindata[split1]\n",
        "  split2data = traindata[split2]\n",
        "  split1label = trainlabel[split1]\n",
        "  split2label =trainlabel[split2]\n",
        "  return split1data, split1label, split2data, split2label\n",
        "\n",
        "testdata,testlabel,alltraindata,alltrainlabel=split(\n",
        "    dataset.data,dataset.target,20/100\n",
        "    )\n",
        "print(\"Number of test samples:\",len(testlabel))\n",
        "print(\"Number of training samples:\",len(alltrainlabel))\n",
        "print(\"Percent of test data:\",len(testlabel)*100/len(dataset.target),\"%\")"
      ]
    },
    {
      "cell_type": "markdown",
      "metadata": {
        "id": "iLtfZtlzcGER"
      },
      "source": [
        "# Experiments with splits"
      ]
    },
    {
      "cell_type": "code",
      "execution_count": null,
      "metadata": {
        "id": "ggQDVtl9chRR"
      },
      "outputs": [],
      "source": [
        "import numpy as np\n",
        "def split(traindata,trainlabel, percent):\n",
        "  rnd = np.random.rand(len(trainlabel))\n",
        "  split1 = rnd < percent\n",
        "  split2 = rnd >= percent\n",
        "  split1data = traindata[split1]\n",
        "  split2data = traindata[split2]\n",
        "  split1label = trainlabel[split1]\n",
        "  split2label =trainlabel[split2]\n",
        "  return split1data, split1label, split2data, split2label"
      ]
    },
    {
      "cell_type": "code",
      "execution_count": null,
      "metadata": {
        "id": "YjEWJHHTcqQW"
      },
      "outputs": [],
      "source": [
        "traindata,trainlabel,valdata,vallabel=split(\n",
        " alltraindata,alltrainlabel,75/100)"
      ]
    },
    {
      "cell_type": "code",
      "execution_count": null,
      "metadata": {
        "colab": {
          "base_uri": "https://localhost:8080/"
        },
        "id": "OSdAC5G5dpGY",
        "outputId": "12b5274d-405b-43a8-c23e-ba4e6d01ca6b"
      },
      "outputs": [
        {
          "output_type": "stream",
          "name": "stdout",
          "text": [
            "Train accuracy: 100.0 %\n",
            "Train accuracy: 16.352711919454368 %\n"
          ]
        }
      ],
      "source": [
        "trainpred=NN(traindata,trainlabel,traindata)\n",
        "trainAccuracy=Accuracy(trainlabel,trainpred)\n",
        "print(\"Train accuracy:\",trainAccuracy*100,\"%\")\n",
        "trainpred=RandomClassifier(traindata,trainlabel,traindata)\n",
        "trainAccuracy=Accuracy(trainlabel,trainpred)\n",
        "print(\"Train accuracy:\",trainAccuracy*100,\"%\")"
      ]
    },
    {
      "cell_type": "code",
      "execution_count": null,
      "metadata": {
        "colab": {
          "base_uri": "https://localhost:8080/"
        },
        "id": "WBN66PxDeZmX",
        "outputId": "5de99268-3f4a-41da-e5d0-b27ad72172ae"
      },
      "outputs": [
        {
          "output_type": "stream",
          "name": "stdout",
          "text": [
            "Validation accuracy using nearest neighbour algorithm: 34.21622923188057 %\n",
            "Validation accuracy using random classifier: 16.084758006260536 %\n"
          ]
        }
      ],
      "source": [
        "valpred=NN(traindata,trainlabel,valdata)\n",
        "valAccuracy=Accuracy(vallabel,valpred)\n",
        "print(\"Validation accuracy using nearest neighbour algorithm:\",valAccuracy*100,\"%\")\n",
        "valpred=RandomClassifier(traindata,trainlabel,valdata)\n",
        "valAccuracy=Accuracy(vallabel,valpred)\n",
        "print(\"Validation accuracy using random classifier:\",valAccuracy*100,\"%\")\n"
      ]
    },
    {
      "cell_type": "code",
      "execution_count": null,
      "metadata": {
        "colab": {
          "base_uri": "https://localhost:8080/"
        },
        "id": "ERfV3U8Lez7u",
        "outputId": "4538a9a9-5512-43e5-9585-a823c3856818"
      },
      "outputs": [
        {
          "output_type": "stream",
          "name": "stdout",
          "text": [
            "Validation accuracy using nearest neighbour algorithm: 34.07518796992481 %\n"
          ]
        }
      ],
      "source": [
        "traindata,trainlabel,valdata,vallabel=split(\n",
        " alltraindata,alltrainlabel,60/100)\n",
        "valpred=NN(traindata,trainlabel,valdata)\n",
        "valAccuracy=Accuracy(vallabel,valpred)\n",
        "print(\"Validation accuracy using nearest neighbour algorithm:\",valAccuracy*100,\"%\")"
      ]
    },
    {
      "cell_type": "code",
      "execution_count": null,
      "metadata": {
        "colab": {
          "base_uri": "https://localhost:8080/"
        },
        "id": "PWccVgDEe_HO",
        "outputId": "c9f4b82b-96eb-4f18-c445-ba82e7649602"
      },
      "outputs": [
        {
          "output_type": "stream",
          "name": "stdout",
          "text": [
            "Test accuracy: 35.84272356748981 %\n"
          ]
        }
      ],
      "source": [
        "testpred=NN(alltraindata,alltrainlabel,testdata)\n",
        "testAccuracy=Accuracy(testlabel,testpred)\n",
        "print(\"Test accuracy:\",testAccuracy*100,\"%\")"
      ]
    },
    {
      "cell_type": "markdown",
      "source": [
        "Try it out for yourself and answer:\n",
        "\n",
        "1.How is the accuracy of the validation set affected if we increase the percentage of validation set? What happens when we reduce it?"
      ],
      "metadata": {
        "id": "CuliW3vs2DuD"
      }
    },
    {
      "cell_type": "markdown",
      "source": [
        "As the percentage of validation set increases, more data will available to test and gives reliable estimation.\n",
        "And this reduces the amount of training data."
      ],
      "metadata": {
        "id": "yt0KIzCv2GaV"
      }
    },
    {
      "cell_type": "markdown",
      "source": [
        "2.How does the size of the train and validation set affect how well we can predict the accuracy on the test set using the validation set?"
      ],
      "metadata": {
        "id": "RKbJ4blk2cOm"
      }
    },
    {
      "cell_type": "markdown",
      "source": [
        "If size of training set is little it might lead to a model that does not generalize well.If size is too little for validation set it makes difficult to perforamance accurately."
      ],
      "metadata": {
        "id": "CiGgg22Z2gCR"
      }
    },
    {
      "cell_type": "markdown",
      "metadata": {
        "id": "GvRePvjlkJwv"
      },
      "source": [
        "# Exercise"
      ]
    },
    {
      "cell_type": "code",
      "execution_count": null,
      "metadata": {
        "id": "-Flq94CYjAza"
      },
      "outputs": [],
      "source": [
        "def NN(traindata, trainlabel, testdata, k=1):\n",
        "    predlabel = np.array([NNK(traindata, trainlabel, i, k) for i in testdata])\n",
        "    return predlabel\n",
        "\n",
        "def NNK(traindata, trainlabel, query, k):\n",
        "\n",
        "    diff = traindata - query\n",
        "    sq = diff ** 2\n",
        "    dist = sq.sum(axis=1)\n",
        "    k_indices = np.argpartition(dist, k)[:k]\n",
        "    k_nearest_labels = trainlabel[k_indices]\n",
        "    most_common = np.bincount(k_nearest_labels).argmax()\n",
        "    return most_common"
      ]
    },
    {
      "cell_type": "code",
      "execution_count": null,
      "metadata": {
        "colab": {
          "base_uri": "https://localhost:8080/"
        },
        "id": "-dxFbDgXhuVE",
        "outputId": "285aaac1-fe5a-4233-858d-6dac8d1fe202"
      },
      "outputs": [
        {
          "output_type": "stream",
          "name": "stdout",
          "text": [
            "Number of test samples: 4140\n",
            "Number of train samples: 16500\n",
            "Percent of test data: 20.058139534883722 %\n",
            "Accuracy of 3-NN: 34.90%\n",
            "Accuracy of Random Classifier: 18.04%\n"
          ]
        }
      ],
      "source": [
        "def RandomClassifier(traindata, trainlabel, testdata):\n",
        "\n",
        "    classes = np.unique(trainlabel)\n",
        "    rints = np.random.randint(low=0, high=len(classes), size=len(testdata))\n",
        "    predlabel = classes[rints]\n",
        "    return predlabel\n",
        "def Accuracy(gtlabel, predlabel):\n",
        "    assert len(gtlabel) == len(predlabel), \"Lengths must match\"\n",
        "    correct = (gtlabel == predlabel).sum()\n",
        "    return correct / len(gtlabel)\n",
        "def split(data, label, percent):\n",
        "    rnd = np.random.random(len(label))\n",
        "    split1 = rnd < percent\n",
        "    split2 = rnd >= percent\n",
        "    split1data = data[split1, :]\n",
        "    split1label = label[split1]\n",
        "    split2data = data[split2, :]\n",
        "    split2label = label[split2]\n",
        "    return split1data, split1label, split2data, split2label\n",
        "train_data, train_label, test_data, test_label = split(\n",
        "    dataset.data, dataset.target, 0.8\n",
        ")\n",
        "print(\"Number of test samples:\", len(test_label))\n",
        "print(\"Number of train samples:\", len(train_label))\n",
        "print(\"Percent of test data:\", len(test_label) * 100 / len(dataset.target), \"%\")\n",
        "pred_labels_nn3 = NN(train_data, train_label, test_data, k=3)\n",
        "accuracy_nn3 = Accuracy(test_label, pred_labels_nn3)\n",
        "pred_labels_random = RandomClassifier(train_data, train_label, test_data)\n",
        "accuracy_random = Accuracy(test_label, pred_labels_random)\n",
        "print(f\"Accuracy of 3-NN: {accuracy_nn3 * 100:.2f}%\")\n",
        "print(f\"Accuracy of Random Classifier: {accuracy_random * 100:.2f}%\")\n"
      ]
    },
    {
      "cell_type": "markdown",
      "metadata": {
        "id": "rvWNmWBJkPe-"
      },
      "source": [
        "# Multiple Splits"
      ]
    },
    {
      "cell_type": "code",
      "execution_count": null,
      "metadata": {
        "id": "h-8M1GPfkOhy"
      },
      "outputs": [],
      "source": [
        "def AverageAccuracy(alldata, alllabel, splitpercent, iterations, classifier=NN):\n",
        "    accuracy = 0\n",
        "    for ii in range(iterations):\n",
        "        traindata, trainlabel, valdata, vallabel = split(\n",
        "            alldata, alllabel, splitpercent\n",
        "        )\n",
        "        valpred = classifier(traindata, trainlabel, valdata)\n",
        "        accuracy += Accuracy(vallabel, valpred)\n",
        "    return accuracy / iterations"
      ]
    },
    {
      "cell_type": "code",
      "execution_count": null,
      "metadata": {
        "colab": {
          "base_uri": "https://localhost:8080/"
        },
        "id": "bPJwPKMXkdz-",
        "outputId": "de746e93-e4b5-4265-8a78-07c91fe8b0d3"
      },
      "outputs": [
        {
          "output_type": "stream",
          "name": "stdout",
          "text": [
            "Average validation accuracy: 34.29509926297178 %\n",
            "Test accuracy: 35.84272356748981 %\n"
          ]
        }
      ],
      "source": [
        "avg_acc = AverageAccuracy(alltraindata, alltrainlabel, 75 / 100, 10, classifier=NN)\n",
        "print(\"Average validation accuracy:\", avg_acc*100, \"%\")\n",
        "testpred = NN(alltraindata, alltrainlabel, testdata)\n",
        "\n",
        "print(\"Test accuracy:\", Accuracy(testlabel, testpred)*100, \"%\")"
      ]
    },
    {
      "cell_type": "markdown",
      "metadata": {
        "id": "znkUWcewk6N1"
      },
      "source": [
        "# Exercise"
      ]
    },
    {
      "cell_type": "code",
      "execution_count": null,
      "metadata": {
        "colab": {
          "base_uri": "https://localhost:8080/"
        },
        "id": "Uk3_MrqNlXiG",
        "outputId": "6abfc778-9fab-4e23-ad52-2472d6bfcfa5"
      },
      "outputs": [
        {
          "output_type": "stream",
          "name": "stdout",
          "text": [
            "Average Validation Accuracies:\n",
            "Split Size: 0.60 -> 1-NN: 93.71%, 3-NN: 95.29%\n",
            "Split Size: 0.70 -> 1-NN: 95.72%, 3-NN: 96.68%\n",
            "Split Size: 0.75 -> 1-NN: 93.75%, 3-NN: 95.52%\n",
            "Split Size: 0.80 -> 1-NN: 94.49%, 3-NN: 96.88%\n",
            "Split Size: 0.90 -> 1-NN: 96.25%, 3-NN: 93.49%\n",
            "\n",
            "Test Accuracy of 1-NN: 95.45%\n",
            "Test Accuracy of 3-NN: 97.73%\n"
          ]
        }
      ],
      "source": [
        "import numpy as np\n",
        "from sklearn.datasets import load_iris\n",
        "\n",
        "dataset = load_iris()\n",
        "\n",
        "\n",
        "def AverageAccuracy(alldata, alllabel, splitpercent, iterations, classifier=NN):\n",
        "\n",
        "    accuracy = 0\n",
        "    for ii in range(iterations):\n",
        "        traindata, trainlabel, valdata, vallabel = split(\n",
        "            alldata, alllabel, splitpercent\n",
        "        )\n",
        "        valpred = classifier(traindata, trainlabel, valdata)\n",
        "        accuracy += Accuracy(vallabel, valpred)\n",
        "    return accuracy / iterations\n",
        "split_sizes = [0.6, 0.7, 0.75, 0.8, 0.9]\n",
        "iterations = 10\n",
        "\n",
        "results_1nn = {}\n",
        "results_3nn = {}\n",
        "\n",
        "for split_size in split_sizes:\n",
        "    avg_acc_1nn = AverageAccuracy(dataset.data, dataset.target, split_size, iterations, classifier=NN)\n",
        "    avg_acc_3nn = AverageAccuracy(dataset.data, dataset.target, split_size, iterations, classifier=lambda x, y, z: NN(x, y, z, k=3))\n",
        "    results_1nn[split_size] = avg_acc_1nn\n",
        "    results_3nn[split_size] = avg_acc_3nn\n",
        "\n",
        "print(\"Average Validation Accuracies:\")\n",
        "for split_size in split_sizes:\n",
        "    print(f\"Split Size: {split_size:.2f} -> 1-NN: {results_1nn[split_size] * 100:.2f}%, 3-NN: {results_3nn[split_size] * 100:.2f}%\")\n",
        "\n",
        "train_data, train_label, test_data, test_label = split(dataset.data, dataset.target, 0.8)\n",
        "test_pred_1nn = NN(train_data, train_label, test_data)\n",
        "test_pred_3nn = NN(train_data, train_label, test_data, k=3)\n",
        "\n",
        "print(f\"\\nTest Accuracy of 1-NN: {Accuracy(test_label, test_pred_1nn) * 100:.2f}%\")\n",
        "print(f\"Test Accuracy of 3-NN: {Accuracy(test_label, test_pred_3nn) * 100:.2f}%\")\n",
        "\n",
        "\n"
      ]
    },
    {
      "cell_type": "markdown",
      "metadata": {
        "id": "e0ZNEt9VmILQ"
      },
      "source": [
        "Questions\n"
      ]
    },
    {
      "cell_type": "markdown",
      "metadata": {
        "id": "tkALygpWmKV6"
      },
      "source": [
        "1.Does averaging the validation accuracy across multiple splits give more consistent results?"
      ]
    },
    {
      "cell_type": "markdown",
      "metadata": {
        "id": "y0hL2TKNmNAQ"
      },
      "source": [
        "Yes, averaging over several splits reduces the volatility brought on by a single train-test split. Because it takes into consideration many data subsets, it offers a more reliable estimate of a classifier's performance."
      ]
    },
    {
      "cell_type": "markdown",
      "metadata": {
        "id": "nW4TzMSHmOMu"
      },
      "source": [
        "2.Does it give more accurate estimate of test accuracy?"
      ]
    },
    {
      "cell_type": "markdown",
      "metadata": {
        "id": "xQntOA8Smz7e"
      },
      "source": [
        "Yes, averaging yields a more generalizable performance metric by capturing the model's performance across several training and validation sets, which improves the estimate of test accuracy.\n",
        "\n"
      ]
    },
    {
      "cell_type": "markdown",
      "metadata": {
        "id": "jSG9WyI0mSCq"
      },
      "source": [
        "3.What is the effect of the number of iterations on the estimate? Do we get a better estimate with higher iterations?"
      ]
    },
    {
      "cell_type": "markdown",
      "metadata": {
        "id": "d6lW4qATm82I"
      },
      "source": [
        "Yes, a more accurate estimate of the model's performance is typically obtained by increasing the number of iterations. Random fluctuations are averaged out by more rounds, which reduces the sensitivity of the results to the particular samples selected in every given split.\n"
      ]
    },
    {
      "cell_type": "markdown",
      "metadata": {
        "id": "-osQdMKsmUrr"
      },
      "source": [
        "4.Consider the results you got for the previous questions. Can we deal with a very small train dataset or validation dataset by increasing the iterations?"
      ]
    },
    {
      "cell_type": "markdown",
      "metadata": {
        "id": "qVjRnBj1nFYL"
      },
      "source": [
        "Not totally. Although more iterations can make the accuracy estimate more robust, they are unable to make up for the absence of data. Overfitting could result from a relatively limited training dataset since the model might pick up noise instead of underlying patterns. In these situations, it's usually preferable to collect additional data if at all possible or employ methods like data augmentation or transfer learning to enhance model performance."
      ]
    },
    {
      "cell_type": "markdown",
      "metadata": {
        "id": "lIDU3WuFnUQk"
      },
      "source": [
        "# Section 2- Data Augmentation"
      ]
    },
    {
      "cell_type": "code",
      "execution_count": null,
      "metadata": {
        "id": "aHEno9eznZRp"
      },
      "outputs": [],
      "source": [
        "from keras.datasets import mnist\n",
        "from sklearn.utils.extmath import cartesian\n",
        "from skimage.transform import rotate, AffineTransform, warp\n",
        "\n",
        "rng = np.random.default_rng(seed=42)"
      ]
    },
    {
      "cell_type": "code",
      "execution_count": null,
      "metadata": {
        "id": "cJT7_xymncyG",
        "colab": {
          "base_uri": "https://localhost:8080/"
        },
        "outputId": "5737fec8-f01b-436c-aa47-980bd18de228"
      },
      "outputs": [
        {
          "output_type": "stream",
          "name": "stdout",
          "text": [
            "Downloading data from https://storage.googleapis.com/tensorflow/tf-keras-datasets/mnist.npz\n",
            "\u001b[1m11490434/11490434\u001b[0m \u001b[32m━━━━━━━━━━━━━━━━━━━━\u001b[0m\u001b[37m\u001b[0m \u001b[1m0s\u001b[0m 0us/step\n"
          ]
        }
      ],
      "source": [
        "(train_X,train_Y),(test_X,test_Y)=mnist.load_data()\n",
        "train_X=train_X/250\n",
        "train_Y=train_X/250\n",
        "train_x=train_X[::1500,:,:].copy()\n",
        "train_y=train_Y[::1500].copy()"
      ]
    },
    {
      "cell_type": "code",
      "execution_count": null,
      "metadata": {
        "id": "kv5wuIiLn3WV"
      },
      "outputs": [],
      "source": [
        "def NN1(traindata, trainlabel, query):\n",
        "  diff = (traindata - query)\n",
        "  sq = diff**2\n",
        "  dist = sq.sum(1)\n",
        "  # Get the index of the minimum distance relative to the original trainlabel size\n",
        "  label_index = np.argmin(dist)\n",
        "  #Ensure the index is within bounds of trainlabel\n",
        "  label_index = min(label_index, len(trainlabel) - 1)\n",
        "  label = trainlabel[label_index]\n",
        "  return label\n",
        "\n",
        "def NN(traindata, trainlabel, testdata):\n",
        "  traindata = traindata.reshape(-1, 28*28) # Reshape to match MNIST image size (28x28)\n",
        "  testdata = testdata.reshape(-1, 28*28)   # Reshape to match MNIST image size (28x28)\n",
        "  predlabel = np.array([NN1(traindata, trainlabel, i) for i in testdata])\n",
        "  return predlabel"
      ]
    },
    {
      "cell_type": "code",
      "execution_count": null,
      "metadata": {
        "id": "xuFZR-9Bo1V1"
      },
      "outputs": [],
      "source": [
        "def Acccuracy(getlabel,predlabel):\n",
        "  assert len(getlabel)==len(predlabel), \"Length of the ground-truth labels and predicted labels should be the same\"\n",
        "  correct=(getlabel==predlabel).sum()\n",
        "  return correct/len(getlabel)\n"
      ]
    },
    {
      "cell_type": "markdown",
      "metadata": {
        "id": "aAqMrMeXte6H"
      },
      "source": [
        "# Augmentation 1 Rotation"
      ]
    },
    {
      "cell_type": "code",
      "execution_count": null,
      "metadata": {
        "id": "IDBQgOBOtkib",
        "colab": {
          "base_uri": "https://localhost:8080/",
          "height": 478
        },
        "outputId": "19f85a80-9717-4e44-ddf6-990a17381d5a"
      },
      "outputs": [
        {
          "output_type": "display_data",
          "data": {
            "text/plain": [
              "<Figure size 2000x1000 with 3 Axes>"
            ],
            "image/png": "[encoded data removed]"
          },
          "metadata": {}
        }
      ],
      "source": [
        "fig, axs = plt.subplots(1,3, figsize=(20, 10))\n",
        "\n",
        "axs[0].imshow(train_X[2], cmap=\"gray\")\n",
        "axs[0].set_title(\"Original Image\")\n",
        "\n",
        "axs[1].imshow(rotate(train_X[2], 10), cmap=\"gray\")\n",
        "axs[1].set_title(\"Rotate +10 degrees\")\n",
        "\n",
        "axs[2].imshow(rotate(train_X[2], -10), cmap=\"gray\")\n",
        "axs[2].set_title(\"Rotate -10 degrees\")\n",
        "\n",
        "plt.show()"
      ]
    },
    {
      "cell_type": "code",
      "source": [
        "def augRotate(sample,angleconstraint):\n",
        "  if angleconstraint==0:\n",
        "    return sample\n",
        "  if len(sample.shape)==2:\n",
        "    sample=np.expand_dims(sample,0)\n",
        "  angle=rng.random(len(sample))\n",
        "  angle=(angle-0.5)*angleconstraint\n",
        "  nsample=sample.copy()\n",
        "  for ii in range(len(sample)):\n",
        "    nsample[ii]=rotate(sample[ii],angle[ii])\n",
        "  return np.squeeze(nsample)"
      ],
      "metadata": {
        "id": "pVKMuCEj5A7f"
      },
      "execution_count": null,
      "outputs": []
    },
    {
      "cell_type": "code",
      "source": [
        "import numpy as np\n",
        "from skimage.transform import rotate, resize # Import the resize function from skimage.transform\n",
        "from skimage.transform import resize\n",
        "\n",
        "def augRotate(sample,angleconstraint):\n",
        "  if angleconstraint==0:\n",
        "    return sample\n",
        "  if len(sample.shape)==2:\n",
        "    sample=np.expand_dims(sample,0)\n",
        "  angle=rng.random(len(sample))\n",
        "  angle=(angle-0.5)*angleconstraint\n",
        "  nsample=sample.copy()\n",
        "  for ii in range(len(sample)):\n",
        "    rotated_image = rotate(sample[ii],angle[ii])\n",
        "    nsample[ii] = resize(rotated_image, sample[ii].shape)\n",
        "  return np.squeeze(nsample)"
      ],
      "metadata": {
        "id": "Od4MR6-f7AsN"
      },
      "execution_count": null,
      "outputs": []
    },
    {
      "cell_type": "code",
      "source": [
        "sample=train_X[10]\n",
        "angleconstraint=60\n",
        "fig,axs=plt.subplots(1,5,figsize=(15,5))\n",
        "axs[0].imshow(sample,cmap=\"gray\")\n",
        "axs[0].set_title(\"Original Image\")\n",
        "axs[1].imshow(augRotate(sample,angleconstraint),cmap=\"gray\")\n",
        "axs[1].set_title(\"Augmented Image1\")\n",
        "axs[2].imshow(augRotate(sample,angleconstraint),cmap=\"gray\")\n",
        "axs[2].set_title(\"Augmented Image2\")\n",
        "axs[3].imshow(augRotate(sample,angleconstraint),cmap=\"gray\")\n",
        "axs[3].set_title(\"Augmented Image3\")\n",
        "axs[4].imshow(augRotate(sample,angleconstraint),cmap=\"gray\")\n",
        "axs[4].set_title(\"Augmented Image4\")\n",
        "plt.show()"
      ],
      "metadata": {
        "id": "hVZ8JQmD7WLH",
        "colab": {
          "base_uri": "https://localhost:8080/",
          "height": 283
        },
        "outputId": "5ebcfdcb-858a-44dd-9f75-cbbb6140c9b8"
      },
      "execution_count": null,
      "outputs": [
        {
          "output_type": "display_data",
          "data": {
            "text/plain": [
              "<Figure size 1500x500 with 5 Axes>"
            ],
            "image/png": "[encoded data removed]"
          },
          "metadata": {}
        }
      ]
    },
    {
      "cell_type": "code",
      "source": [
        "angleconstraint=70\n",
        "naugmentations=6\n",
        "augdata=train_X\n",
        "auglabel=train_y\n",
        "for ii in range(naugmentations):\n",
        "  augdata=np.concatenate((augdata,augRotate(train_X,angleconstraint)))\n",
        "  auglabel=np.concatenate((auglabel,train_Y))\n",
        "testpred=NN(augdata,auglabel,test_X)\n",
        "print(\"Accuracy:\",Acccuracy(test_Y,testpred)*100,\"%\")"
      ],
      "metadata": {
        "id": "kp0PDpTe74YQ"
      },
      "execution_count": null,
      "outputs": []
    },
    {
      "cell_type": "code",
      "source": [
        "angleconstraints=[0,1,2,3,4,5,6,7,8,9,10]\n",
        "accuracies=np.zeroes(len(angleconstraints),dtype=float)\n",
        "for i in range(len(angleconstraints)):\n",
        "  augdata=train_X\n",
        "  auglabel=train_y\n",
        "  for ii in range(naugmentations):\n",
        "    augdata=np.concatenate((augdata,augRotate(train_X,angleconstraints[i])))\n",
        "    auglabel=np.concatenate((auglabel,train_Y))\n",
        "  testpred=NN(augdata,auglabel,test_X)\n",
        "  accuracies[i]=Acccuracy(test_Y,testpred)\n",
        "  print(\"Angle constraint:\",angleconstraints[i],\"degrees is \",accuracies[i]*100,\"%\",flush=True)"
      ],
      "metadata": {
        "id": "hBLPeQWn8wEA"
      },
      "execution_count": null,
      "outputs": []
    },
    {
      "cell_type": "code",
      "source": [
        "fig=plt.figure()\n",
        "ax=fig.add_axes([0.1,0.1,0.8,0.8])\n",
        "ax.plot(angleconstraints,accuracies,marker=\"o\")\n",
        "plt.xlabel(\"Angle constraint\")\n",
        "plt.ylabel(\"Accuracy\")\n",
        "maxind=np.argmax(accuracies)\n",
        "plt.scatter(angleconstraints[maxind],accuracies[maxind],,color=\"red\")\n",
        "plt.show()"
      ],
      "metadata": {
        "id": "1l-nrTrm_h-C"
      },
      "execution_count": null,
      "outputs": []
    },
    {
      "cell_type": "markdown",
      "source": [
        "# Augmentation 2 : Shear"
      ],
      "metadata": {
        "id": "oSJJLboWAGiH"
      }
    },
    {
      "cell_type": "code",
      "source": [
        "def shear(sample,amount):\n",
        "  tform=AffineTransform(shear=amount)\n",
        "  img=wrap(sample,tform)\n",
        "  col=img.sum(0).nonzero()[0]\n",
        "  row=img.sum(1).nonzero()[0]\n",
        "  if len(col)>0 and len(row)>0:\n",
        "    xshift=int(sample.shape[0]/2-(row[0]+row[-1])/2)\n",
        "    yshift=int(sample.shape[1]/2-(col[0]+col[-1])/2)\n",
        "    img=(shift(img,xshift,yshift),(0,1))\n",
        "  return img"
      ],
      "metadata": {
        "id": "f5gNXuZiADCI"
      },
      "execution_count": null,
      "outputs": []
    },
    {
      "cell_type": "code",
      "source": [
        "sample=train_x[2]\n",
        "fig,axs=plt.subplots(1,5,figsize=(15,5))\n",
        "axs[0].imshow(sample,cmap=\"gray\")\n",
        "axs[0].set_title(\"Original Image\")\n",
        "axs[1].imshow(shear(sample,0.1),cmap=\"gray\")\n",
        "axs[1].set_title(\"Amount=2\")\n",
        "axs[2].imshow(shear(sample,0.2),cmap=\"gray\")\n",
        "axs[2].set_title(\"Amount=4\")\n",
        "axs[3].imshow(shear(sample,0.3),cmap=\"gray\")\n",
        "axs[3].set_title(\"Amount=4\")\n",
        "axs[4].imshow(shear(sample,0.4),cmap=\"gray\")\n",
        "axs[4].set_title(\"Amount=8\")\n",
        "plt.show()"
      ],
      "metadata": {
        "id": "dLdyTwvHBZYo"
      },
      "execution_count": null,
      "outputs": []
    },
    {
      "cell_type": "code",
      "source": [
        "def augShear(sample,shearconstraint):\n",
        "  if shearconstraint==0:\n",
        "    return sample\n",
        "  if len(sample.shape)==2:\n",
        "    sample=np.expand_dims(sample,0)\n",
        "  shearamount=rng.random(len(sample))\n",
        "  shearamount(shearamount-1)*shearconstraint\n",
        "  nsample=sample.copy()\n",
        "  for i in range(len(sample)):\n",
        "    nsample[i]=shear(sample[i],shearamount[i])\n",
        "  return np.squeeze(nsample)"
      ],
      "metadata": {
        "id": "5KbSia5SBs05"
      },
      "execution_count": null,
      "outputs": []
    },
    {
      "cell_type": "code",
      "source": [
        "shearconstraints=[0,0.5,1,1.5,2,2.5,3,3.5,4,4.5,5,]\n",
        "angleconstraints=[0,5,10,15,20,25,30]\n",
        "hyp=cartesian((shearconstraints,angleconstraints))\n",
        "accuracies=np.zeros(len(hyp),dtype=float)\n",
        "for i in range(len(hyp)):\n",
        "  augdata=train_X\n",
        "  auglabel=train_y\n",
        "  for ii in range(naugmentations):\n",
        "    augdata=np.concatenate((augdata,augShear(train_X,hyp[i][0],hyp[i][1])))\n",
        "    auglabel=np.concatenate((auglabel,train_y))\n",
        "  testpred=NN(augdata,auglabel,test_X)\n",
        "  accuracies[i]=Acccuracy(test_Y,testpred)\n",
        "  print(\"Accuracy after augmentation shear : \",\n",
        "        hyp[i][0],\"angle:\",hyp[i],\"is\",accuracies[i]*100,\"%\",flush=True,)"
      ],
      "metadata": {
        "id": "M1_wDyHBCXfY"
      },
      "execution_count": null,
      "outputs": []
    },
    {
      "cell_type": "code",
      "source": [
        "fig=plt.figure()\n",
        "ax=fig.add_axes([0.1,0.1,0.7,0.9])\n",
        "im=ax.imshow(accuracies.reshape(len(shearconstraints),len(angleconstraints)),cmap=\"cold\")\n",
        "ax.set_xlabel(\"Angle\")\n",
        "ax.set_ylabel(\"Shear\")\n",
        "ax.set_xticks(np.arange(len(angleconstraints)))\n",
        "ax.set_yticks(np.arange(len(shearconstraints)))\n",
        "ax.set_xticklabels(angleconstraints)\n",
        "ax.set_yticklabels(shearconstraints)\n",
        "plt.colorbar(im)"
      ],
      "metadata": {
        "id": "uftLnsNhDPmE"
      },
      "execution_count": null,
      "outputs": []
    },
    {
      "cell_type": "code",
      "source": [
        "import numpy as np\n",
        "import matplotlib.pyplot as plt\n",
        "\n",
        "# Select 50 images per digit\n",
        "def select_samples_per_digit(X, y, num_samples=50):\n",
        "    classes = np.unique(y)\n",
        "    selected_X, selected_y = [], []\n",
        "\n",
        "    for label in classes:\n",
        "        indices = np.where(y == label)[0]\n",
        "        selected_indices = np.random.choice(indices, num_samples, replace=False)\n",
        "        selected_X.append(X[selected_indices])\n",
        "        selected_y.append(y[selected_indices])\n",
        "\n",
        "    selected_X = np.concatenate(selected_X, axis=0)\n",
        "    selected_y = np.concatenate(selected_y, axis=0)\n",
        "\n",
        "    return selected_X, selected_y\n",
        "\n",
        "# Sample 50 images per digit from training data\n",
        "small_train_X, small_train_y = select_samples_per_digit(train_X, train_y)\n",
        "\n",
        "# Train and test the model on the reduced dataset\n",
        "# Assuming NN is the neural network model function and Accuracy is the accuracy function\n",
        "test_pred = NN(small_train_X, small_train_y, test_X)\n",
        "test_accuracy = Accuracy(test_Y, test_pred)\n",
        "\n",
        "print(f\"Test accuracy with 50 images per digit: {test_accuracy * 100:.2f}%\")\n",
        "\n",
        "# Optional: Plotting some of the 50-sample-per-digit images\n",
        "fig, axs = plt.subplots(5, 10, figsize=(15, 8))\n",
        "for i in range(10):\n",
        "    for j in range(5):\n",
        "        axs[j, i].imshow(small_train_X[j * 10 + i], cmap='gray')\n",
        "        axs[j, i].axis('off')\n",
        "plt.suptitle(\"Sample images (50 per digit)\")\n",
        "plt.show()\n"
      ],
      "metadata": {
        "id": "HkwZs8DLE76A"
      },
      "execution_count": null,
      "outputs": []
    },
    {
      "cell_type": "markdown",
      "source": [
        "# Questions"
      ],
      "metadata": {
        "id": "HBeRlbDAFQmp"
      }
    },
    {
      "cell_type": "markdown",
      "source": [
        "Can you increase the accuracy by increasing the number of augmentations from each sample?"
      ],
      "metadata": {
        "id": "9CH5D9YRFSrX"
      }
    },
    {
      "cell_type": "markdown",
      "source": [
        "Yes, I can increase the accuracy by increasing nargumantations."
      ],
      "metadata": {
        "id": "QK02yUSYFV9J"
      }
    }
  ],
  "metadata": {
    "colab": {
      "provenance": [],
      "authorship_tag": "ABX9TyMM0yIJV1T578tL71zEnDSm",
      "include_colab_link": true
    },
    "kernelspec": {
      "display_name": "Python 3",
      "name": "python3"
    },
    "language_info": {
      "name": "python"
    }
  },
  "nbformat": 4,
  "nbformat_minor": 0
}